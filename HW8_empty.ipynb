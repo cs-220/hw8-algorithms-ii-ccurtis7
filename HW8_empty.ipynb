{
 "cells": [
  {
   "cell_type": "markdown",
   "metadata": {},
   "source": [
    "# Problem 1\n",
    "\n",
    "Some interesting geometric curves can be described recursively. One famous example is the Koch curve. It is a curve that can be infinitely long in a finite amount of space. It can also be used to generate pretty pictures.\n",
    "\n",
    "The Koch curve is described in terms of \"levels\" or \"degrees\". The Kock curve of degree 0 is just a straight line segment. A first degree curve is formed by placing a \"bump\" in the middle of the line segment. The original segment has been divided into four, each of which is 1/3 the length of the original. The bump rises at 60 degrees, so it forms two sides of an equilateral triangle. To get a second-degree curve, you put a bump into each of the line segments of the first-degree curve. Successive curves are constructed by placing bumps on each segment of the previous curve.\n",
    "\n",
    "You can draw interesting pictures by \"Kochizing\" the sides of a polygon. You are to write a program to draw a snowflake. Think of drawing a Koch curve as if you were giving instructions to a turtle. The turtle always knows where it currently sits and what direction it is facing. To draw a Koch curve of a given length and degree, you might use an algorithm like this:\n",
    "\n",
    "```\n",
    "Algorithm Koch(Turtle, length, degree):\n",
    "    if degree == 0:\n",
    "        Tell the turtle to draw for length steps\n",
    "    else:\n",
    "        length1 = length/3\n",
    "        degree1 = degree - 1\n",
    "        Koch(Turtle, length1, degree1)\n",
    "        Tell the turtle to turn left 60 degrees\n",
    "        Koch(Turtle, length1, degree1)\n",
    "        Tell the turtle to turn right 120 degrees\n",
    "        Koch(Turtle, length1, degree1)\n",
    "        Tell the turtle to turn left 60 degrees\n",
    "        Koch Turtle(length1, degree1)\n",
    "```\n",
    "\n",
    "Implemenet this algorithm with a Turtle class that contains instance variables `location` (a `Point`) and `Direction` (a float) and methods such as `moveTo(somePoint)`, `draw(length`, and `turn(degrees)`. If you maintain direction as an angle in radians, the point you are going to can easily be computed from your current location. Just us dx = length * cos(direction) and dy = length * sin(direction)."
   ]
  },
  {
   "cell_type": "code",
   "execution_count": 25,
   "metadata": {},
   "outputs": [],
   "source": [
    "import math"
   ]
  },
  {
   "cell_type": "code",
   "execution_count": null,
   "metadata": {},
   "outputs": [],
   "source": [
    "math."
   ]
  },
  {
   "cell_type": "markdown",
   "metadata": {},
   "source": [
    "# Problem 2\n",
    "\n",
    "Write a program that solves word jumble problems. You will need a large dictionary of English words. The user types in a scrambled word, and your program generates all anagrams of the word and then checks which (if any) are in the dictionary. The anagrams appearing in the dictionary are printed as solutions to the puzzle."
   ]
  },
  {
   "cell_type": "code",
   "execution_count": null,
   "metadata": {},
   "outputs": [],
   "source": []
  }
 ],
 "metadata": {
  "kernelspec": {
   "display_name": "Python 3",
   "language": "python",
   "name": "python3"
  },
  "language_info": {
   "codemirror_mode": {
    "name": "ipython",
    "version": 3
   },
   "file_extension": ".py",
   "mimetype": "text/x-python",
   "name": "python",
   "nbconvert_exporter": "python",
   "pygments_lexer": "ipython3",
   "version": "3.8.8"
  }
 },
 "nbformat": 4,
 "nbformat_minor": 4
}
